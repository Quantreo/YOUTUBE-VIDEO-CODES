{
 "cells": [
  {
   "cell_type": "markdown",
   "id": "f7c3c12f-3389-46ed-948c-178ee76970db",
   "metadata": {},
   "source": [
    "# Trend Following Crypto Trading Bot"
   ]
  },
  {
   "cell_type": "code",
   "execution_count": 97,
   "id": "e8484e0f-0556-4a58-9f31-2e3ec7abf83c",
   "metadata": {},
   "outputs": [],
   "source": [
    "import numpy as np, pandas as pd, matplotlib.pyplot as plt\n",
    "from datetime import datetime, timedelta\n",
    "import ccxt\n",
    "from config import *\n",
    "import time"
   ]
  },
  {
   "cell_type": "code",
   "execution_count": 94,
   "id": "f4c9c786-c274-4d12-9494-31abb6f857c6",
   "metadata": {},
   "outputs": [],
   "source": [
    "def get_price(symbol, api):\n",
    "    return api.fetch_ticker(symbol)['last']\n",
    "    \n",
    "def get_data(symbol, timeframe, api, number_of_days=30):\n",
    "    \"\"\" TimeFrame examples: \"1m\", \"15m\", \"1h\"...\"\"\"\n",
    "    \n",
    "    # Initialiaze the Exchange\n",
    "    api.load_markets()\n",
    "    \n",
    "    # Define the dates & import the data\n",
    "    one_week_ago = datetime.utcnow() - timedelta(days=number_of_days)\n",
    "    since = int(one_week_ago.timestamp() * 1000)\n",
    "    data = api.fetch_ohlcv(symbol, timeframe=timeframe, since=since, limit=1000)\n",
    "\n",
    "    # Format the data\n",
    "    df_data = pd.DataFrame(data)\n",
    "    df_data.columns = [\"time\", \"open\", \"high\", \"low\", \"close\", \"volume\"]\n",
    "    df_data[\"time\"] = pd.to_datetime(df_data[\"time\"], unit='ms')\n",
    "    df_data = df_data.set_index(\"time\")\n",
    "    \n",
    "    return df_data\n",
    "\n",
    "def buy_market(symbol, symbol_amount, api):\n",
    "    price = get_price(symbol, api)\n",
    "    symbol_amount_usdt = symbol_amount * price\n",
    "  \n",
    "    # You maybe need to modify the inputs of this function according to your exchange\n",
    "    order = api.create_market_buy_order(symbol, symbol_amount_usdt)\n",
    "    return order\n",
    "\n",
    "def sell_market(symbol, symbol_amount, api):\n",
    "    order = api.create_market_sell_order(symbol, symbol_amount)\n",
    "    return order\n",
    "\n",
    "def get_available_amount(symbol,api):\n",
    "    balances = api.fetch_balance()\n",
    "    for dictionnary in balances[\"info\"]:\n",
    "        if dictionnary[\"coin\"]==symbol:\n",
    "            amount_symbol = dictionnary[\"available\"]\n",
    "        else:\n",
    "            amount_symbol = 0\n",
    "    return float(amount_symbol)"
   ]
  },
  {
   "cell_type": "code",
   "execution_count": 108,
   "id": "9de72589-4c64-4aad-a38d-1087bbc8af2e",
   "metadata": {},
   "outputs": [
    {
     "data": {
      "text/plain": [
       "[{'coin': 'BTC',\n",
       "  'available': '0.00000081',\n",
       "  'limitAvailable': '0',\n",
       "  'frozen': '0.00000000',\n",
       "  'locked': '0.00000000',\n",
       "  'uTime': '1728293413716'},\n",
       " {'coin': 'USDT',\n",
       "  'available': '55.18492785',\n",
       "  'limitAvailable': '0',\n",
       "  'frozen': '0.00000000',\n",
       "  'locked': '0.00000000',\n",
       "  'uTime': '1734514475558'},\n",
       " {'coin': 'DOGE',\n",
       "  'available': '0.00006260',\n",
       "  'limitAvailable': '0',\n",
       "  'frozen': '0.00000000',\n",
       "  'locked': '0.00000000',\n",
       "  'uTime': '1734514475558'}]"
      ]
     },
     "execution_count": 108,
     "metadata": {},
     "output_type": "execute_result"
    }
   ],
   "source": [
    "balances = api.fetch_balance()\n",
    "balances[\"info\"]"
   ]
  },
  {
   "cell_type": "markdown",
   "id": "63f7d60b-ab99-4531-bb33-3592c4794efe",
   "metadata": {},
   "source": [
    "<br>\n",
    "\n",
    "### Test the Functions"
   ]
  },
  {
   "cell_type": "code",
   "execution_count": 106,
   "id": "3b5ed0bb-b5a5-40d4-a85c-06d3beafc8ed",
   "metadata": {},
   "outputs": [
    {
     "data": {
      "text/plain": [
       "104987.31"
      ]
     },
     "execution_count": 106,
     "metadata": {},
     "output_type": "execute_result"
    }
   ],
   "source": [
    "get_price(\"BTCUSDT\", api)"
   ]
  },
  {
   "cell_type": "code",
   "execution_count": 107,
   "id": "aa940cc7-6e4b-4ad6-b015-3e51e254d201",
   "metadata": {},
   "outputs": [
    {
     "data": {
      "text/html": [
       "<div>\n",
       "<style scoped>\n",
       "    .dataframe tbody tr th:only-of-type {\n",
       "        vertical-align: middle;\n",
       "    }\n",
       "\n",
       "    .dataframe tbody tr th {\n",
       "        vertical-align: top;\n",
       "    }\n",
       "\n",
       "    .dataframe thead th {\n",
       "        text-align: right;\n",
       "    }\n",
       "</style>\n",
       "<table border=\"1\" class=\"dataframe\">\n",
       "  <thead>\n",
       "    <tr style=\"text-align: right;\">\n",
       "      <th></th>\n",
       "      <th>open</th>\n",
       "      <th>high</th>\n",
       "      <th>low</th>\n",
       "      <th>close</th>\n",
       "      <th>volume</th>\n",
       "    </tr>\n",
       "    <tr>\n",
       "      <th>time</th>\n",
       "      <th></th>\n",
       "      <th></th>\n",
       "      <th></th>\n",
       "      <th></th>\n",
       "      <th></th>\n",
       "    </tr>\n",
       "  </thead>\n",
       "  <tbody>\n",
       "    <tr>\n",
       "      <th>2024-11-18 11:00:00</th>\n",
       "      <td>91737.83</td>\n",
       "      <td>91792.68</td>\n",
       "      <td>90062.50</td>\n",
       "      <td>90264.54</td>\n",
       "      <td>138.270318</td>\n",
       "    </tr>\n",
       "    <tr>\n",
       "      <th>2024-11-18 12:00:00</th>\n",
       "      <td>90264.54</td>\n",
       "      <td>90740.74</td>\n",
       "      <td>90111.13</td>\n",
       "      <td>90517.51</td>\n",
       "      <td>90.896266</td>\n",
       "    </tr>\n",
       "    <tr>\n",
       "      <th>2024-11-18 13:00:00</th>\n",
       "      <td>90517.51</td>\n",
       "      <td>90583.28</td>\n",
       "      <td>89400.00</td>\n",
       "      <td>89526.09</td>\n",
       "      <td>119.259774</td>\n",
       "    </tr>\n",
       "    <tr>\n",
       "      <th>2024-11-18 14:00:00</th>\n",
       "      <td>89526.09</td>\n",
       "      <td>91031.28</td>\n",
       "      <td>89452.06</td>\n",
       "      <td>90305.95</td>\n",
       "      <td>149.818628</td>\n",
       "    </tr>\n",
       "    <tr>\n",
       "      <th>2024-11-18 15:00:00</th>\n",
       "      <td>90305.95</td>\n",
       "      <td>92509.63</td>\n",
       "      <td>90247.64</td>\n",
       "      <td>92272.70</td>\n",
       "      <td>269.969662</td>\n",
       "    </tr>\n",
       "    <tr>\n",
       "      <th>...</th>\n",
       "      <td>...</td>\n",
       "      <td>...</td>\n",
       "      <td>...</td>\n",
       "      <td>...</td>\n",
       "      <td>...</td>\n",
       "    </tr>\n",
       "    <tr>\n",
       "      <th>2024-12-18 07:00:00</th>\n",
       "      <td>103815.99</td>\n",
       "      <td>104340.00</td>\n",
       "      <td>103756.00</td>\n",
       "      <td>104300.26</td>\n",
       "      <td>438.659404</td>\n",
       "    </tr>\n",
       "    <tr>\n",
       "      <th>2024-12-18 08:00:00</th>\n",
       "      <td>104300.26</td>\n",
       "      <td>104402.16</td>\n",
       "      <td>103789.00</td>\n",
       "      <td>103848.01</td>\n",
       "      <td>409.670293</td>\n",
       "    </tr>\n",
       "    <tr>\n",
       "      <th>2024-12-18 09:00:00</th>\n",
       "      <td>103848.01</td>\n",
       "      <td>104426.45</td>\n",
       "      <td>103841.01</td>\n",
       "      <td>104091.00</td>\n",
       "      <td>235.189755</td>\n",
       "    </tr>\n",
       "    <tr>\n",
       "      <th>2024-12-18 10:00:00</th>\n",
       "      <td>104091.00</td>\n",
       "      <td>104628.62</td>\n",
       "      <td>104033.00</td>\n",
       "      <td>104529.94</td>\n",
       "      <td>254.862990</td>\n",
       "    </tr>\n",
       "    <tr>\n",
       "      <th>2024-12-18 11:00:00</th>\n",
       "      <td>104529.94</td>\n",
       "      <td>105027.56</td>\n",
       "      <td>104504.40</td>\n",
       "      <td>105027.55</td>\n",
       "      <td>438.682665</td>\n",
       "    </tr>\n",
       "  </tbody>\n",
       "</table>\n",
       "<p>721 rows × 5 columns</p>\n",
       "</div>"
      ],
      "text/plain": [
       "                          open       high        low      close      volume\n",
       "time                                                                       \n",
       "2024-11-18 11:00:00   91737.83   91792.68   90062.50   90264.54  138.270318\n",
       "2024-11-18 12:00:00   90264.54   90740.74   90111.13   90517.51   90.896266\n",
       "2024-11-18 13:00:00   90517.51   90583.28   89400.00   89526.09  119.259774\n",
       "2024-11-18 14:00:00   89526.09   91031.28   89452.06   90305.95  149.818628\n",
       "2024-11-18 15:00:00   90305.95   92509.63   90247.64   92272.70  269.969662\n",
       "...                        ...        ...        ...        ...         ...\n",
       "2024-12-18 07:00:00  103815.99  104340.00  103756.00  104300.26  438.659404\n",
       "2024-12-18 08:00:00  104300.26  104402.16  103789.00  103848.01  409.670293\n",
       "2024-12-18 09:00:00  103848.01  104426.45  103841.01  104091.00  235.189755\n",
       "2024-12-18 10:00:00  104091.00  104628.62  104033.00  104529.94  254.862990\n",
       "2024-12-18 11:00:00  104529.94  105027.56  104504.40  105027.55  438.682665\n",
       "\n",
       "[721 rows x 5 columns]"
      ]
     },
     "execution_count": 107,
     "metadata": {},
     "output_type": "execute_result"
    }
   ],
   "source": [
    "get_data(\"BTCUSDT\", \"1h\", api)"
   ]
  },
  {
   "cell_type": "code",
   "execution_count": 117,
   "id": "1d3e67ad-3d89-4ccb-ac66-a847fda54e08",
   "metadata": {},
   "outputs": [
    {
     "data": {
      "text/plain": [
       "[{'coin': 'BTC',\n",
       "  'available': '0.00000081',\n",
       "  'limitAvailable': '0',\n",
       "  'frozen': '0.00000000',\n",
       "  'locked': '0.00000000',\n",
       "  'uTime': '1728293413716'},\n",
       " {'coin': 'USDT',\n",
       "  'available': '47.36137541',\n",
       "  'limitAvailable': '0',\n",
       "  'frozen': '0.00000000',\n",
       "  'locked': '0.00000000',\n",
       "  'uTime': '1734523958979'},\n",
       " {'coin': 'DOGE',\n",
       "  'available': '19.98007300',\n",
       "  'limitAvailable': '0',\n",
       "  'frozen': '0.00000000',\n",
       "  'locked': '0.00000000',\n",
       "  'uTime': '1734523958979'}]"
      ]
     },
     "execution_count": 117,
     "metadata": {},
     "output_type": "execute_result"
    }
   ],
   "source": [
    "buy_market(\"DOGEUSDT\", 20, api)\n",
    "balances = api.fetch_balance()\n",
    "balances[\"info\"]"
   ]
  },
  {
   "cell_type": "code",
   "execution_count": 111,
   "id": "c73f8c28-0d38-46b1-a418-160c36b565e0",
   "metadata": {},
   "outputs": [
    {
     "data": {
      "text/plain": [
       "[{'coin': 'BTC',\n",
       "  'available': '0.00000081',\n",
       "  'limitAvailable': '0',\n",
       "  'frozen': '0.00000000',\n",
       "  'locked': '0.00000000',\n",
       "  'uTime': '1728293413716'},\n",
       " {'coin': 'USDT',\n",
       "  'available': '55.17174372',\n",
       "  'limitAvailable': '0',\n",
       "  'frozen': '0.00000000',\n",
       "  'locked': '0.00000000',\n",
       "  'uTime': '1734523476430'},\n",
       " {'coin': 'DOGE',\n",
       "  'available': '0.00006880',\n",
       "  'limitAvailable': '0',\n",
       "  'frozen': '0.00000000',\n",
       "  'locked': '0.00000000',\n",
       "  'uTime': '1734523476430'}]"
      ]
     },
     "execution_count": 111,
     "metadata": {},
     "output_type": "execute_result"
    }
   ],
   "source": [
    "sell_market(\"DOGEUSDT\", 19.97386880, api)\n",
    "balances = api.fetch_balance()\n",
    "balances[\"info\"]"
   ]
  },
  {
   "cell_type": "code",
   "execution_count": 114,
   "id": "4e6d63e5-7880-431b-8789-556a044fa9d0",
   "metadata": {},
   "outputs": [
    {
     "data": {
      "text/plain": [
       "19.975873"
      ]
     },
     "execution_count": 114,
     "metadata": {},
     "output_type": "execute_result"
    }
   ],
   "source": [
    "get_available_amount(\"DOGE\",api)"
   ]
  },
  {
   "cell_type": "markdown",
   "id": "5137f90d-3e40-43df-b40c-8eaa0288f36f",
   "metadata": {},
   "source": [
    "### Create the bot"
   ]
  },
  {
   "cell_type": "code",
   "execution_count": 118,
   "id": "910b806b-fa12-43d5-af38-6b81c116fdc8",
   "metadata": {},
   "outputs": [
    {
     "name": "stdout",
     "output_type": "stream",
     "text": [
      "0.3980818750000001 0.4181456041666667\n",
      "SELL\n",
      "0.3980818750000001 0.4181456041666667\n",
      "0.3980818750000001 0.4181456041666667\n"
     ]
    },
    {
     "ename": "KeyboardInterrupt",
     "evalue": "",
     "output_type": "error",
     "traceback": [
      "\u001b[0;31m---------------------------------------------------------------------------\u001b[0m",
      "\u001b[0;31mKeyboardInterrupt\u001b[0m                         Traceback (most recent call last)",
      "Cell \u001b[0;32mIn[118], line 31\u001b[0m\n\u001b[1;32m     28\u001b[0m \u001b[38;5;28;01melse\u001b[39;00m:\n\u001b[1;32m     29\u001b[0m     \u001b[38;5;28;01mpass\u001b[39;00m\n\u001b[0;32m---> 31\u001b[0m \u001b[43mtime\u001b[49m\u001b[38;5;241;43m.\u001b[39;49m\u001b[43msleep\u001b[49m\u001b[43m(\u001b[49m\u001b[38;5;241;43m1\u001b[39;49m\u001b[43m)\u001b[49m\n",
      "\u001b[0;31mKeyboardInterrupt\u001b[0m: "
     ]
    }
   ],
   "source": [
    "amount_symbol = 20\n",
    "\n",
    "while True:\n",
    "    # Import and Create the necessary data \n",
    "    df = get_data(\"DOGEUSDT\", \"1h\", api).iloc[:-1,:]\n",
    "    df[\"Fast SMA\"] = df[\"close\"].rolling(24*2).mean()\n",
    "    df[\"Slow SMA\"] = df[\"close\"].rolling(24*20).mean()\n",
    "\n",
    "    # Create the conditions\n",
    "    fast_sma, slow_sma = df[\"Fast SMA\"].iloc[-1], df[\"Slow SMA\"].iloc[-1]\n",
    "    print(fast_sma, slow_sma)\n",
    "    condition_buy = slow_sma < fast_sma\n",
    "    condition_sell = not condition_buy\n",
    "\n",
    "    # Extract the data\n",
    "    av_amount = get_available_amount(\"DOGE\", api)\n",
    "\n",
    "    # Buy condition\n",
    "    if condition_buy and (av_amount < amount_symbol*.10):\n",
    "        buy_market(\"DOGEUSDT\", amount_symbol, api)\n",
    "        print(\"BUY\")\n",
    "\n",
    "    # Sell condition\n",
    "    elif condition_sell and (amount_symbol*.90 < av_amount):\n",
    "        sell_market(\"DOGEUSDT\", av_amount, api)\n",
    "        print(\"SELL\")\n",
    "\n",
    "    else:\n",
    "        pass\n",
    "\n",
    "    time.sleep(1)"
   ]
  },
  {
   "cell_type": "code",
   "execution_count": null,
   "id": "bcc8b5e9-68fd-49b5-9534-e3a5ee4c6f64",
   "metadata": {},
   "outputs": [],
   "source": []
  }
 ],
 "metadata": {
  "kernelspec": {
   "display_name": "Python 3 (ipykernel)",
   "language": "python",
   "name": "python3"
  },
  "language_info": {
   "codemirror_mode": {
    "name": "ipython",
    "version": 3
   },
   "file_extension": ".py",
   "mimetype": "text/x-python",
   "name": "python",
   "nbconvert_exporter": "python",
   "pygments_lexer": "ipython3",
   "version": "3.10.11"
  }
 },
 "nbformat": 4,
 "nbformat_minor": 5
}
