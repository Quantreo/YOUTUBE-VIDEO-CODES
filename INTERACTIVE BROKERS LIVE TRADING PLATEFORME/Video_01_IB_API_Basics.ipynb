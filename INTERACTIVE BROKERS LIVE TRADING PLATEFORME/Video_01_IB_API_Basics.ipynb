{
 "cells": [
  {
   "cell_type": "markdown",
   "id": "5727d99e-e7fd-4927-a117-7e467770b179",
   "metadata": {},
   "source": [
    "### Important Links\n",
    "\n",
    "👉 Interactive Brokers Website: https://www.interactivebrokers.com <br>\n",
    "👉 Download TWS API: https://interactivebrokers.github.io <br>\n",
    "👉 Quantreo's Website: https://www.quantreo.com/"
   ]
  },
  {
   "cell_type": "code",
   "execution_count": 3,
   "id": "3a61971a-3d3a-4dcb-983a-8aee6e3cd42b",
   "metadata": {},
   "outputs": [
    {
     "name": "stdout",
     "output_type": "stream",
     "text": [
      "Collecting ib_insync\n",
      "  Downloading ib_insync-0.9.86-py3-none-any.whl.metadata (5.4 kB)\n",
      "Collecting eventkit (from ib_insync)\n",
      "  Downloading eventkit-1.0.3-py3-none-any.whl.metadata (5.4 kB)\n",
      "Requirement already satisfied: nest-asyncio in /Users/lucasinglese/opt/anaconda3/lib/python3.9/site-packages (from ib_insync) (1.5.5)\n",
      "Requirement already satisfied: numpy in /Users/lucasinglese/opt/anaconda3/lib/python3.9/site-packages (from eventkit->ib_insync) (1.22.4)\n",
      "Downloading ib_insync-0.9.86-py3-none-any.whl (72 kB)\n",
      "\u001b[2K   \u001b[90m━━━━━━━━━━━━━━━━━━━━━━━━━━━━━━━━━━━━━━━━\u001b[0m \u001b[32m73.0/73.0 kB\u001b[0m \u001b[31m3.2 MB/s\u001b[0m eta \u001b[36m0:00:00\u001b[0m\n",
      "\u001b[?25hDownloading eventkit-1.0.3-py3-none-any.whl (31 kB)\n",
      "Installing collected packages: eventkit, ib_insync\n",
      "Successfully installed eventkit-1.0.3 ib_insync-0.9.86\n",
      "\n",
      "\u001b[1m[\u001b[0m\u001b[34;49mnotice\u001b[0m\u001b[1;39;49m]\u001b[0m\u001b[39;49m A new release of pip is available: \u001b[0m\u001b[31;49m24.0\u001b[0m\u001b[39;49m -> \u001b[0m\u001b[32;49m24.2\u001b[0m\n",
      "\u001b[1m[\u001b[0m\u001b[34;49mnotice\u001b[0m\u001b[1;39;49m]\u001b[0m\u001b[39;49m To update, run: \u001b[0m\u001b[32;49mpip install --upgrade pip\u001b[0m\n"
     ]
    }
   ],
   "source": [
    "!pip install ib_insync"
   ]
  },
  {
   "cell_type": "code",
   "execution_count": 1,
   "id": "63df7029-cfd9-4904-832c-5107d0a249e3",
   "metadata": {},
   "outputs": [],
   "source": [
    "from ib_insync import *\n",
    "import nest_asyncio\n",
    "nest_asyncio.apply()"
   ]
  },
  {
   "cell_type": "markdown",
   "id": "c6257a4b-987e-41c7-a7ec-e1da618f0383",
   "metadata": {},
   "source": [
    "### Initialize the bound between TWS (IB Platform) and Python\n",
    "**YOU MAY HAVE SOME ERRORS WITH THE CONNECTION IF YOU USE TWO TIMES THE SAME CLIENT_ID**"
   ]
  },
  {
   "cell_type": "code",
   "execution_count": 2,
   "id": "686cc707-8657-4d6d-bd48-d23d6d771e90",
   "metadata": {},
   "outputs": [
    {
     "data": {
      "text/plain": [
       "<IB connected to 127.0.0.1:7497 clientId=1>"
      ]
     },
     "execution_count": 2,
     "metadata": {},
     "output_type": "execute_result"
    }
   ],
   "source": [
    "ib = IB()\n",
    "ib.connect('127.0.0.1', 7497, clientId=1)"
   ]
  },
  {
   "cell_type": "markdown",
   "id": "233b894c-a691-4e42-99eb-5e8abc07e853",
   "metadata": {},
   "source": [
    "### Extract account information"
   ]
  },
  {
   "cell_type": "code",
   "execution_count": null,
   "id": "cf285bbc-91f5-4c48-9645-93fa64da80b9",
   "metadata": {},
   "outputs": [],
   "source": [
    "# Retrieve account information\n",
    "account_info = ib.accountSummary()\n",
    "\n",
    "account_info"
   ]
  },
  {
   "cell_type": "code",
   "execution_count": 4,
   "id": "808dcbe8-fbcc-4cc9-be59-aef5f213f6de",
   "metadata": {},
   "outputs": [
    {
     "name": "stdout",
     "output_type": "stream",
     "text": [
      "TotalCashValue: 1019066.08\n"
     ]
    }
   ],
   "source": [
    "for item in account_info:\n",
    "    if item.tag == 'TotalCashValue':\n",
    "        print(f'{item.tag}: {item.value}')"
   ]
  },
  {
   "cell_type": "markdown",
   "id": "97f743eb-7bde-4357-9847-171c11309f72",
   "metadata": {},
   "source": [
    "### Verify that the contract is available"
   ]
  },
  {
   "cell_type": "code",
   "execution_count": 5,
   "id": "9a08306f-bd43-4fcb-a073-49890b912f1d",
   "metadata": {},
   "outputs": [
    {
     "data": {
      "text/plain": [
       "[Forex('EURUSD', conId=12087792, exchange='IDEALPRO', localSymbol='EUR.USD', tradingClass='EUR.USD')]"
      ]
     },
     "execution_count": 5,
     "metadata": {},
     "output_type": "execute_result"
    }
   ],
   "source": [
    "# Define the contract \n",
    "contract = Forex('EURUSD')\n",
    "\n",
    "# Ensure the contract is available and request market data\n",
    "ib.qualifyContracts(contract)"
   ]
  },
  {
   "cell_type": "markdown",
   "id": "26b04a9e-9af5-4f16-99b3-8d4855b8d2ff",
   "metadata": {},
   "source": [
    "### Extract symbol information"
   ]
  },
  {
   "cell_type": "code",
   "execution_count": 6,
   "id": "20ed79e2-f125-4087-9ad7-1cafe7c2c130",
   "metadata": {},
   "outputs": [
    {
     "data": {
      "text/plain": [
       "[ContractDetails(contract=Contract(secType='CASH', conId=12087792, symbol='EUR', exchange='IDEALPRO', currency='USD', localSymbol='EUR.USD', tradingClass='EUR.USD'), marketName='EUR.USD', minTick=5e-05, orderTypes='ACTIVETIM,AD,ADJUST,ALERT,ALGO,ALLOC,AVGCOST,BASKET,CASHQTY,COND,CONDORDER,DAY,DEACT,DEACTDIS,DEACTEOD,GAT,GTC,GTD,GTT,HID,IOC,LIT,LMT,MIT,MKT,NONALGO,OCA,REL,RELPCTOFS,SCALE,SCALERST,STP,STPLMT,TRAIL,TRAILLIT,TRAILLMT,TRAILMIT,WHATIF', validExchanges='IDEALPRO', priceMagnifier=1, underConId=0, longName='European Monetary Union Euro', contractMonth='', industry='', category='', subcategory='', timeZoneId='US/Eastern', tradingHours='20240921:CLOSED;20240922:1715-20240923:1700;20240923:1715-20240924:1700;20240924:1715-20240925:1700;20240925:1715-20240926:1700;20240926:1715-20240927:1700', liquidHours='20240921:CLOSED;20240922:1715-20240923:1700;20240923:1715-20240924:1700;20240924:1715-20240925:1700;20240925:1715-20240926:1700;20240926:1715-20240927:1700', evRule='', evMultiplier=0, mdSizeMultiplier=1, aggGroup=4, underSymbol='', underSecType='', marketRuleIds='3188', secIdList=[], realExpirationDate='', lastTradeTime='', stockType='', minSize=0.01, sizeIncrement=0.01, suggestedSizeIncrement=0.01, cusip='', ratings='', descAppend='', bondType='', couponType='', callable=False, putable=False, coupon=0, convertible=False, maturity='', issueDate='', nextOptionDate='', nextOptionType='', nextOptionPartial=False, notes='')]"
      ]
     },
     "execution_count": 6,
     "metadata": {},
     "output_type": "execute_result"
    }
   ],
   "source": [
    "# Define the contract for EUR/USD\n",
    "contract = Forex('EURUSD')\n",
    "\n",
    "# Request contract details\n",
    "contract_details = ib.reqContractDetails(contract)\n",
    "\n",
    "contract_details"
   ]
  },
  {
   "cell_type": "markdown",
   "id": "9bc3372f-9223-45e5-a16b-963b46b6744f",
   "metadata": {},
   "source": [
    "### Stop the connection"
   ]
  },
  {
   "cell_type": "code",
   "execution_count": 8,
   "id": "40afd6f4-248c-441c-8dea-c4c27a3e6fc1",
   "metadata": {},
   "outputs": [],
   "source": [
    "ib.disconnect()"
   ]
  }
 ],
 "metadata": {
  "kernelspec": {
   "display_name": "Python 3 (ipykernel)",
   "language": "python",
   "name": "python3"
  },
  "language_info": {
   "codemirror_mode": {
    "name": "ipython",
    "version": 3
   },
   "file_extension": ".py",
   "mimetype": "text/x-python",
   "name": "python",
   "nbconvert_exporter": "python",
   "pygments_lexer": "ipython3",
   "version": "3.10.11"
  }
 },
 "nbformat": 4,
 "nbformat_minor": 5
}
