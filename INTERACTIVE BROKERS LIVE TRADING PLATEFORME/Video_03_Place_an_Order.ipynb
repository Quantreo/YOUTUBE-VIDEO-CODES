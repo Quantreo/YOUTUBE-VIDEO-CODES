{
 "cells": [
  {
   "cell_type": "markdown",
   "id": "6ac5ef5c-5ff5-40c8-8d36-2802fd9148df",
   "metadata": {},
   "source": [
    "# PLACE AN ORDER"
   ]
  },
  {
   "cell_type": "code",
   "execution_count": 11,
   "id": "d89a8459-2ff9-4881-ace6-9bbf8675996f",
   "metadata": {},
   "outputs": [],
   "source": [
    "from ib_insync import *\n",
    "import pandas as pd\n",
    "import nest_asyncio\n",
    "nest_asyncio.apply()\n",
    "from datetime import datetime, timedelta\n",
    "import numpy as np\n",
    "import time"
   ]
  },
  {
   "cell_type": "code",
   "execution_count": 13,
   "id": "9b511090-15f7-4378-9230-c3d54077221d",
   "metadata": {},
   "outputs": [
    {
     "data": {
      "text/plain": [
       "<IB connected to 127.0.0.1:7497 clientId=20>"
      ]
     },
     "execution_count": 13,
     "metadata": {},
     "output_type": "execute_result"
    }
   ],
   "source": [
    "# Connect to the IB API\n",
    "ib = IB()\n",
    "ib.connect('127.0.0.1', 7497, clientId=20)"
   ]
  },
  {
   "cell_type": "code",
   "execution_count": 14,
   "id": "ddda8d0f-f634-45ea-8e76-65308c8672d4",
   "metadata": {},
   "outputs": [
    {
     "data": {
      "text/plain": [
       "[Forex('EURUSD', conId=12087792, exchange='IDEALPRO', localSymbol='EUR.USD', tradingClass='EUR.USD')]"
      ]
     },
     "execution_count": 14,
     "metadata": {},
     "output_type": "execute_result"
    }
   ],
   "source": [
    "# Define the contract \n",
    "contract = Forex(\"EURUSD\")\n",
    "\n",
    "# Qualify the contract (verify its validity and retrieve details)\n",
    "ib.qualifyContracts(contract)"
   ]
  },
  {
   "cell_type": "markdown",
   "id": "882d8474-f06f-42bb-b494-21fdd19c6709",
   "metadata": {},
   "source": [
    "### OPEN BUY POSITION (=CLOSE SELL POSITION)"
   ]
  },
  {
   "cell_type": "code",
   "execution_count": 15,
   "id": "463a2264-3eb4-4231-b4f7-1bcdeaa316a1",
   "metadata": {},
   "outputs": [
    {
     "name": "stdout",
     "output_type": "stream",
     "text": [
      "Trade(contract=Forex('EURUSD', conId=12087792, exchange='IDEALPRO', localSymbol='EUR.USD', tradingClass='EUR.USD'), order=MarketOrder(orderId=4, clientId=20, action='BUY', totalQuantity=1000), orderStatus=OrderStatus(orderId=4, status='PendingSubmit', filled=0.0, remaining=0.0, avgFillPrice=0.0, permId=0, parentId=0, lastFillPrice=0.0, clientId=0, whyHeld='', mktCapPrice=0.0), fills=[], log=[TradeLogEntry(time=datetime.datetime(2024, 10, 15, 7, 4, 3, 539878, tzinfo=datetime.timezone.utc), status='PendingSubmit', message='', errorCode=0)], advancedError='')\n"
     ]
    }
   ],
   "source": [
    "# Create a market order \n",
    "order = MarketOrder('BUY', totalQuantity = 1000)\n",
    "\n",
    "# Place the order\n",
    "trade = ib.placeOrder(contract, order)\n",
    "\n",
    "# Print the trade details\n",
    "print(trade)"
   ]
  },
  {
   "cell_type": "markdown",
   "id": "55e130c1-b1b7-47ea-9e0d-b40520c5d6fe",
   "metadata": {},
   "source": [
    "### OPEN SELL POSITION (=CLOSE BUY POSITION)"
   ]
  },
  {
   "cell_type": "code",
   "execution_count": 16,
   "id": "d8a5275e-4a8d-466a-bcd3-3a0bdeec51d9",
   "metadata": {},
   "outputs": [
    {
     "name": "stdout",
     "output_type": "stream",
     "text": [
      "Trade(contract=Forex('EURUSD', conId=12087792, exchange='IDEALPRO', localSymbol='EUR.USD', tradingClass='EUR.USD'), order=MarketOrder(orderId=5, clientId=20, action='SELL', totalQuantity=10000), orderStatus=OrderStatus(orderId=5, status='PendingSubmit', filled=0.0, remaining=0.0, avgFillPrice=0.0, permId=0, parentId=0, lastFillPrice=0.0, clientId=0, whyHeld='', mktCapPrice=0.0), fills=[], log=[TradeLogEntry(time=datetime.datetime(2024, 10, 15, 7, 5, 16, 748992, tzinfo=datetime.timezone.utc), status='PendingSubmit', message='', errorCode=0)], advancedError='')\n"
     ]
    }
   ],
   "source": [
    "# Create a market order \n",
    "order = MarketOrder('SELL', 10000)\n",
    "\n",
    "# Place the Forex order to convert EUR to USD\n",
    "trade = ib.placeOrder(contract, order)\n",
    "\n",
    "# Print the trade details\n",
    "print(trade)"
   ]
  },
  {
   "cell_type": "markdown",
   "id": "4d6dc381-b851-44ba-84b0-8a9323106d79",
   "metadata": {},
   "source": [
    "### Limit order"
   ]
  },
  {
   "cell_type": "code",
   "execution_count": 17,
   "id": "1e7a6154-06e4-4289-b925-2b5b82ca4bc1",
   "metadata": {},
   "outputs": [
    {
     "name": "stdout",
     "output_type": "stream",
     "text": [
      "Trade(contract=Stock(symbol='AAPL', exchange='SMART', currency='USD'), order=LimitOrder(orderId=6, clientId=20, action='BUY', totalQuantity=1, lmtPrice=230), orderStatus=OrderStatus(orderId=6, status='PendingSubmit', filled=0.0, remaining=0.0, avgFillPrice=0.0, permId=0, parentId=0, lastFillPrice=0.0, clientId=0, whyHeld='', mktCapPrice=0.0), fills=[], log=[TradeLogEntry(time=datetime.datetime(2024, 10, 15, 7, 6, 57, 523475, tzinfo=datetime.timezone.utc), status='PendingSubmit', message='', errorCode=0)], advancedError='')\n"
     ]
    }
   ],
   "source": [
    "# Define the contract (e.g., AAPL stock)\n",
    "contract = Stock('AAPL', 'SMART', 'USD')\n",
    "\n",
    "# Define the limit order\n",
    "order = LimitOrder('BUY', 1, 230)\n",
    "\n",
    "# Place the order\n",
    "trade = ib.placeOrder(contract, order)\n",
    "print(trade)"
   ]
  },
  {
   "cell_type": "code",
   "execution_count": null,
   "id": "369cf890-e7b4-4258-82b3-47590afb6ad3",
   "metadata": {},
   "outputs": [],
   "source": []
  }
 ],
 "metadata": {
  "kernelspec": {
   "display_name": "Python 3 (ipykernel)",
   "language": "python",
   "name": "python3"
  },
  "language_info": {
   "codemirror_mode": {
    "name": "ipython",
    "version": 3
   },
   "file_extension": ".py",
   "mimetype": "text/x-python",
   "name": "python",
   "nbconvert_exporter": "python",
   "pygments_lexer": "ipython3",
   "version": "3.10.11"
  }
 },
 "nbformat": 4,
 "nbformat_minor": 5
}
