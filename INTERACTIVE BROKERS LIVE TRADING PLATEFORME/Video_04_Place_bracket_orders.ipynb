{
 "cells": [
  {
   "cell_type": "markdown",
   "id": "f98768a0-734b-4936-b3fd-b69b59b6d64e",
   "metadata": {},
   "source": [
    "# PLACE BRACKET ORDERS"
   ]
  },
  {
   "cell_type": "code",
   "execution_count": 2,
   "id": "123b78c7-ed00-4fd1-be52-33f4c2188e26",
   "metadata": {},
   "outputs": [],
   "source": [
    "from ib_insync import *\n",
    "import pandas as pd\n",
    "import nest_asyncio\n",
    "nest_asyncio.apply()\n",
    "from datetime import datetime, timedelta\n",
    "import numpy as np\n",
    "import time"
   ]
  },
  {
   "cell_type": "code",
   "execution_count": 3,
   "id": "d72a22ac-b02c-4a17-b570-9b38b967bd28",
   "metadata": {},
   "outputs": [
    {
     "data": {
      "text/plain": [
       "<IB connected to 127.0.0.1:7497 clientId=15>"
      ]
     },
     "execution_count": 3,
     "metadata": {},
     "output_type": "execute_result"
    }
   ],
   "source": [
    "# Connect to the IB API\n",
    "ib = IB()\n",
    "ib.connect('127.0.0.1', 7497, clientId=15)"
   ]
  },
  {
   "cell_type": "code",
   "execution_count": 6,
   "id": "e274bca1-cbad-40bb-9e3a-6a552a9cffdf",
   "metadata": {},
   "outputs": [
    {
     "name": "stdout",
     "output_type": "stream",
     "text": [
      "BracketOrder(parent=LimitOrder(orderId=11, action='BUY', totalQuantity=1, lmtPrice=230, transmit=False), takeProfit=LimitOrder(orderId=12, action='SELL', totalQuantity=1, lmtPrice=240, transmit=False, parentId=11), stopLoss=StopOrder(orderId=13, action='SELL', totalQuantity=1, auxPrice=220, parentId=11))\n"
     ]
    }
   ],
   "source": [
    "# Contract\n",
    "contract = Stock('AAPL', 'SMART', 'USD')\n",
    "\n",
    "# Parameters\n",
    "quantity = 1 \n",
    "limit_price = 230 \n",
    "take_profit_price = 240\n",
    "stop_loss_price = 220\n",
    "\n",
    "# Create the orders\n",
    "bracket_orders = ib.bracketOrder('BUY', quantity, limit_price, take_profit_price, stop_loss_price)\n",
    "print(bracket_orders)"
   ]
  },
  {
   "cell_type": "code",
   "execution_count": 8,
   "id": "381e588f-530e-457e-a067-e03ef615bb24",
   "metadata": {},
   "outputs": [],
   "source": [
    "# Send the orders\n",
    "for order in bracket_orders:\n",
    "    ib.placeOrder(contract, order)"
   ]
  },
  {
   "cell_type": "code",
   "execution_count": 5,
   "id": "c0a88bbc-7b72-468f-a5e0-14394b15158c",
   "metadata": {},
   "outputs": [],
   "source": [
    "ib.disconnect()\n"
   ]
  },
  {
   "cell_type": "code",
   "execution_count": null,
   "id": "07a621e5-e87d-4a4e-8639-60abe640f4fa",
   "metadata": {},
   "outputs": [],
   "source": []
  }
 ],
 "metadata": {
  "kernelspec": {
   "display_name": "Python 3 (ipykernel)",
   "language": "python",
   "name": "python3"
  },
  "language_info": {
   "codemirror_mode": {
    "name": "ipython",
    "version": 3
   },
   "file_extension": ".py",
   "mimetype": "text/x-python",
   "name": "python",
   "nbconvert_exporter": "python",
   "pygments_lexer": "ipython3",
   "version": "3.10.11"
  }
 },
 "nbformat": 4,
 "nbformat_minor": 5
}
